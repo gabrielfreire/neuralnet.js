{
 "cells": [
  {
   "cell_type": "code",
   "execution_count": 30,
   "metadata": {},
   "outputs": [
    {
     "ename": "SyntaxError",
     "evalue": "Identifier 'fs' has already been declared",
     "output_type": "error",
     "traceback": [
      "evalmachine.<anonymous>:1",
      "let fs = require('fs');",
      "^",
      "",
      "SyntaxError: Identifier 'fs' has already been declared",
      "    at evalmachine.<anonymous>:1:1",
      "    at ContextifyScript.Script.runInThisContext (vm.js:44:33)",
      "    at Object.runInThisContext (vm.js:116:38)",
      "    at run ([eval]:1002:15)",
      "    at onRunRequest ([eval]:829:18)",
      "    at onMessage ([eval]:789:13)",
      "    at emitTwo (events.js:125:13)",
      "    at process.emit (events.js:213:7)",
      "    at handleMessage (internal/child_process.js:753:14)",
      "    at Pipe.channel.onread (internal/child_process.js:472:11)"
     ]
    }
   ],
   "source": [
    "let fs = require('fs');"
   ]
  },
  {
   "cell_type": "code",
   "execution_count": 43,
   "metadata": {},
   "outputs": [],
   "source": [
    "let file2 = fs.readFileSync('www/data/iris.data.csv');"
   ]
  },
  {
   "cell_type": "code",
   "execution_count": 44,
   "metadata": {},
   "outputs": [
    {
     "data": {
      "text/plain": [
       "<Buffer 35 2e 31 2c 33 2e 35 2c 31 2e 34 2c 30 2e 32 2c 49 72 69 73 2d 73 65 74 6f 73 61 0a 34 2e 39 2c 33 2e 30 2c 31 2e 34 2c 30 2e 32 2c 49 72 69 73 2d 73 ... >"
      ]
     },
     "execution_count": 44,
     "metadata": {},
     "output_type": "execute_result"
    }
   ],
   "source": [
    "file2"
   ]
  },
  {
   "cell_type": "code",
   "execution_count": 36,
   "metadata": {},
   "outputs": [],
   "source": []
  },
  {
   "cell_type": "code",
   "execution_count": null,
   "metadata": {},
   "outputs": [],
   "source": []
  },
  {
   "cell_type": "code",
   "execution_count": null,
   "metadata": {},
   "outputs": [],
   "source": []
  }
 ],
 "metadata": {
  "kernelspec": {
   "display_name": "Javascript (Node.js)",
   "language": "javascript",
   "name": "javascript"
  },
  "language_info": {
   "file_extension": ".js",
   "mimetype": "application/javascript",
   "name": "javascript",
   "version": "8.1.4"
  }
 },
 "nbformat": 4,
 "nbformat_minor": 2
}
